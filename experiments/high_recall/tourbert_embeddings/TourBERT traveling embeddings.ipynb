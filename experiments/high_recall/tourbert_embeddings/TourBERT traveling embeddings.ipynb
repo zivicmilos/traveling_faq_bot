{
 "cells": [
  {
   "cell_type": "markdown",
   "id": "9cd9c151",
   "metadata": {},
   "source": [
    "# TourBERT traveling embeddings"
   ]
  },
  {
   "cell_type": "markdown",
   "id": "37c41c8d",
   "metadata": {},
   "source": [
    "Here we use **TourBERT** sentiment analysis model to create word vectors for traveling-based questions. TourBERT is a pre-trained NLP model to analyze sentiment of tourism-based text. This approach does not give better results than other approaches we tried earlier, in fact, have slightly worse performance:\n",
    "| Model | Score |\n",
    "| --- | --- |\n",
    "| Stemming | 97.8% |\n",
    "| Lemmatization | 96.4% |\n",
    "| N-grams | 96.3% |\n",
    "| Stemming + Stop words | 98.3% |\n",
    "| Custom word vectors combined with IDF | 98.0% |\n",
    "| Custom word vectors combined with POS+NER | 97.4% |\n",
    "| Pretrained word vectors | 95.8% |\n",
    "| Embeddings from pretrained TourBERT | 91.5% |"
   ]
  },
  {
   "cell_type": "code",
   "execution_count": 3,
   "id": "3f5ade0b",
   "metadata": {},
   "outputs": [],
   "source": [
    "import json\n",
    "from typing import Collection\n",
    "\n",
    "import numpy as np\n",
    "import pandas as pd\n",
    "import torch\n",
    "from sklearn.neighbors import NearestNeighbors\n",
    "from transformers import BertTokenizer, BertModel\n",
    "\n",
    "N_NEIGHBOURS = 100"
   ]
  },
  {
   "cell_type": "code",
   "execution_count": 4,
   "id": "1b473937",
   "metadata": {},
   "outputs": [],
   "source": [
    "def batch(iterable: Collection, n: int = 1) -> Collection:\n",
    "    \"\"\"\n",
    "    Yields n batches from input iterable\n",
    "\n",
    "    :param iterable: Collection\n",
    "        input iterable\n",
    "    :param n: int\n",
    "        number of batches\n",
    "    :return:\n",
    "        batch iterable\n",
    "    \"\"\"\n",
    "    l = len(iterable)\n",
    "    for ndx in range(0, l, n):\n",
    "        yield iterable[ndx : min(ndx + n, l)]"
   ]
  },
  {
   "cell_type": "code",
   "execution_count": 6,
   "id": "6f9c63ff",
   "metadata": {},
   "outputs": [
    {
     "name": "stdout",
     "output_type": "stream",
     "text": [
      "Score: 91.48%\n"
     ]
    }
   ],
   "source": [
    "df = pd.read_csv(\"../../../data/traveling_qna_dataset.csv\", sep=\"\\t\")\n",
    "df.drop(columns=df.columns[0], axis=1, inplace=True)\n",
    "questions = np.unique(df.iloc[:, 0].to_numpy())\n",
    "\n",
    "# tokenizer = BertTokenizer.from_pretrained(\"veroman/TourBERT\")\n",
    "# model = BertModel.from_pretrained(\"veroman/TourBERT\")\n",
    "\n",
    "# Transform and save input questions\n",
    "# outputs = []\n",
    "# for i, q in enumerate(batch(questions, 32)):\n",
    "#     encoded_text = self.tokenizer(q, return_tensors=\"pt\", padding=True)\n",
    "#     with torch.no_grad():\n",
    "#         output = model(**encoded_text)[1].numpy().reshape(-1)\n",
    "#     output = np.array_split(output, len(q))\n",
    "#     outputs += output\n",
    "#     print((i + 1) * 32)\n",
    "\n",
    "# outputs = np.asarray(outputs)\n",
    "# np.save('tourbert_emmbedings.npy', outputs)\n",
    "outputs = np.load(\"tourbert_emmbedings.npy\")\n",
    "\n",
    "knn = NearestNeighbors(n_neighbors=100, metric=\"cosine\").fit(outputs)\n",
    "\n",
    "with open(\"../../../data/test_questions_json.json\") as json_file:\n",
    "    json_data = json.load(json_file)\n",
    "\n",
    "test_questions = json_data[\"question\"]\n",
    "original = json_data[\"original\"]\n",
    "\n",
    "# Transform and save test questions\n",
    "# encoded_text = self.tokenizer(test_questions, return_tensors=\"pt\", padding=True)\n",
    "# with torch.no_grad():\n",
    "#     output = model(**encoded_text)[1].numpy().reshape(-1)\n",
    "# output = np.array_split(output, 60)\n",
    "# tq = np.asarray(output)\n",
    "# np.save('tourbert_emmbedings_test.npy', tq)\n",
    "tq = np.load(\"tourbert_emmbedings_test.npy\")\n",
    "\n",
    "_, indices = knn.kneighbors(tq)\n",
    "\n",
    "indices_original = np.asarray([questions.tolist().index(o) for o in original])\n",
    "\n",
    "rank = np.where(indices == indices_original[:, None])[1]\n",
    "penalization = (indices_original.shape[0] - rank.shape[0]) * 2 * knn.n_neighbors\n",
    "score = (rank.sum() + penalization) / indices_original.shape[0]\n",
    "\n",
    "print(f\"Score: {100 - score / (2 * N_NEIGHBOURS) * 100:.2f}%\")\n"
   ]
  }
 ],
 "metadata": {
  "kernelspec": {
   "display_name": "Python [conda env:synechron]",
   "language": "python",
   "name": "conda-env-synechron-py"
  },
  "language_info": {
   "codemirror_mode": {
    "name": "ipython",
    "version": 3
   },
   "file_extension": ".py",
   "mimetype": "text/x-python",
   "name": "python",
   "nbconvert_exporter": "python",
   "pygments_lexer": "ipython3",
   "version": "3.11.5"
  }
 },
 "nbformat": 4,
 "nbformat_minor": 5
}
